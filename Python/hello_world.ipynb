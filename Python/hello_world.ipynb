{
  "nbformat": 4,
  "nbformat_minor": 0,
  "metadata": {
    "colab": {
      "name": "Untitled0.ipynb",
      "provenance": [],
      "authorship_tag": "ABX9TyOPeibML9cCUiVVsVpydobw",
      "include_colab_link": true
    },
    "kernelspec": {
      "name": "python3",
      "display_name": "Python 3"
    }
  },
  "cells": [
    {
      "cell_type": "markdown",
      "metadata": {
        "id": "view-in-github",
        "colab_type": "text"
      },
      "source": [
        "<a href=\"https://colab.research.google.com/github/lrosso96/Codes/blob/main/hello_world.ipynb\" target=\"_parent\"><img src=\"https://colab.research.google.com/assets/colab-badge.svg\" alt=\"Open In Colab\"/></a>"
      ]
    },
    {
      "cell_type": "code",
      "metadata": {
        "colab": {
          "base_uri": "https://localhost:8080/"
        },
        "id": "953hFzqdS4FU",
        "outputId": "15c22654-0212-4a30-a1e3-f6e97405041f"
      },
      "source": [
        "2+2"
      ],
      "execution_count": 1,
      "outputs": [
        {
          "output_type": "execute_result",
          "data": {
            "text/plain": [
              "4"
            ]
          },
          "metadata": {
            "tags": []
          },
          "execution_count": 1
        }
      ]
    },
    {
      "cell_type": "markdown",
      "metadata": {
        "id": "F6rfSCtHTICl"
      },
      "source": [
        ""
      ]
    },
    {
      "cell_type": "code",
      "metadata": {
        "colab": {
          "base_uri": "https://localhost:8080/"
        },
        "id": "-Br-jt4YTR-W",
        "outputId": "62711252-7070-47f7-fb73-a23b1a441442"
      },
      "source": [
        " import numpy as np\r\n",
        "import pandas as pd\r\n",
        "np.random.seed(1234)\r\n",
        "data = np.random.randn(5, 2)\r\n",
        "\r\n",
        "print(data)\r\n"
      ],
      "execution_count": 4,
      "outputs": [
        {
          "output_type": "stream",
          "text": [
            "[[ 0.47143516 -1.19097569]\n",
            " [ 1.43270697 -0.3126519 ]\n",
            " [-0.72058873  0.88716294]\n",
            " [ 0.85958841 -0.6365235 ]\n",
            " [ 0.01569637 -2.24268495]]\n"
          ],
          "name": "stdout"
        }
      ]
    }
  ]
}
