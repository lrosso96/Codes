{
  "nbformat": 4,
  "nbformat_minor": 0,
  "metadata": {
    "colab": {
      "name": "Untitled0.ipynb",
      "provenance": [],
      "authorship_tag": "ABX9TyOWO0wNIFKkVfs6iHr+p1zG",
      "include_colab_link": true
    },
    "kernelspec": {
      "name": "python3",
      "display_name": "Python 3"
    }
  },
  "cells": [
    {
      "cell_type": "markdown",
      "metadata": {
        "id": "view-in-github",
        "colab_type": "text"
      },
      "source": [
        "<a href=\"https://colab.research.google.com/github/lrosso96/Codes/blob/main/web_scraping.ipynb\" target=\"_parent\"><img src=\"https://colab.research.google.com/assets/colab-badge.svg\" alt=\"Open In Colab\"/></a>"
      ]
    },
    {
      "cell_type": "code",
      "metadata": {
        "colab": {
          "base_uri": "https://localhost:8080/"
        },
        "id": "953hFzqdS4FU",
        "outputId": "15c22654-0212-4a30-a1e3-f6e97405041f"
      },
      "source": [
        "2+2"
      ],
      "execution_count": null,
      "outputs": [
        {
          "output_type": "execute_result",
          "data": {
            "text/plain": [
              "4"
            ]
          },
          "metadata": {
            "tags": []
          },
          "execution_count": 1
        }
      ]
    },
    {
      "cell_type": "markdown",
      "metadata": {
        "id": "F6rfSCtHTICl"
      },
      "source": [
        ""
      ]
    },
    {
      "cell_type": "code",
      "metadata": {
        "id": "MCrNAKc0mhuk"
      },
      "source": [
        "# -*- coding: utf-8 -*-\r\n",
        "\"\"\"\r\n",
        "Created on Thu Dec 17 17:28:48 2020\r\n",
        "\r\n",
        "@author: Lucas Rosso\r\n",
        "\"\"\"\r\n",
        "\r\n",
        "#from os import chdir\r\n",
        "#chdir (\"C:/Users/Lucas Rosso/Desktop/ME/Programación/Python\")\r\n",
        "\r\n",
        "from bs4 import BeautifulSoup\r\n",
        "import requests\r\n",
        "\r\n",
        "url = \"https://www.timeanddate.com/holidays/\"\r\n",
        "page = requests.get(url, 'html.parser')\r\n",
        "\r\n",
        "soup = BeautifulSoup(page.text)"
      ],
      "execution_count": 3,
      "outputs": []
    },
    {
      "cell_type": "code",
      "metadata": {
        "id": "Fi91LgtmmAjr",
        "colab": {
          "base_uri": "https://localhost:8080/"
        },
        "outputId": "65159271-53d8-462a-9091-34ccee133934"
      },
      "source": [
        "print(soup.find_all(\"ul\", class_='category-list__list'))"
      ],
      "execution_count": 4,
      "outputs": [
        {
          "output_type": "stream",
          "text": [
            "[<ul class=\"category-list__list\"><li><a href=\"/holidays/afghanistan/\">Afghanistan</a></li><li><a href=\"/holidays/albania/\">Albania</a></li><li><a href=\"/holidays/algeria/\">Algeria</a></li><li><a href=\"/holidays/american-samoa/\">American Samoa</a></li><li><a href=\"/holidays/andorra/\">Andorra</a></li><li><a href=\"/holidays/angola/\">Angola</a></li><li><a href=\"/holidays/anguilla/\">Anguilla</a></li><li><a href=\"/holidays/antigua-and-barbuda/\">Antigua and Barbuda</a></li><li><a href=\"/holidays/argentina/\">Argentina</a></li><li><a href=\"/holidays/armenia/\">Armenia</a></li><li><a href=\"/holidays/aruba/\">Aruba</a></li><li><a href=\"/holidays/australia/\">Australia</a></li><li><a href=\"/holidays/austria/\">Austria</a></li><li><a href=\"/holidays/azerbaijan/\">Azerbaijan</a></li></ul>, <ul class=\"category-list__list\"><li><a href=\"/holidays/bahrain/\">Bahrain</a></li><li><a href=\"/holidays/bangladesh/\">Bangladesh</a></li><li><a href=\"/holidays/barbados/\">Barbados</a></li><li><a href=\"/holidays/belarus/\">Belarus</a></li><li><a href=\"/holidays/belgium/\">Belgium</a></li><li><a href=\"/holidays/belize/\">Belize</a></li><li><a href=\"/holidays/benin/\">Benin</a></li><li><a href=\"/holidays/bermuda/\">Bermuda</a></li><li><a href=\"/holidays/bhutan/\">Bhutan</a></li><li><a href=\"/holidays/bolivia/\">Bolivia</a></li><li><a href=\"/holidays/bosnia/\">Bosnia and Herzegovina</a></li><li><a href=\"/holidays/botswana/\">Botswana</a></li><li><a href=\"/holidays/brazil/\">Brazil</a></li><li><a href=\"/holidays/british-virgin-islands/\">British Virgin Islands</a></li><li><a href=\"/holidays/brunei/\">Brunei</a></li><li><a href=\"/holidays/bulgaria/\">Bulgaria</a></li><li><a href=\"/holidays/burkina-faso/\">Burkina Faso</a></li><li><a href=\"/holidays/burundi/\">Burundi</a></li></ul>, <ul class=\"category-list__list\"><li><a href=\"/holidays/cape-verde/\">Cabo Verde</a></li><li><a href=\"/holidays/cambodia/\">Cambodia</a></li><li><a href=\"/holidays/cameroon/\">Cameroon</a></li><li><a href=\"/holidays/canada/\">Canada</a></li><li><a href=\"/holidays/cayman-islands/\">Cayman Islands</a></li><li><a href=\"/holidays/central-african-republic/\">Central African Republic</a></li><li><a href=\"/holidays/chad/\">Chad</a></li><li><a href=\"/holidays/chile/\">Chile</a></li><li><a href=\"/holidays/china/\">China</a></li><li><a href=\"/holidays/colombia/\">Colombia</a></li><li><a href=\"/holidays/comores/\">Comoros</a></li><li><a href=\"/holidays/republic-of-the-congo/\">Congo</a></li><li><a href=\"/holidays/dr-congo/\">Congo Democratic Republic</a></li><li><a href=\"/holidays/cook-islands/\">Cook Islands</a></li><li><a href=\"/holidays/costa-rica/\">Costa Rica</a></li><li><a href=\"/holidays/ivory-coast/\">Cote d'Ivoire</a></li><li><a href=\"/holidays/croatia/\">Croatia</a></li><li><a href=\"/holidays/cuba/\">Cuba</a></li><li><a href=\"/holidays/curacao/\">Curaçao</a></li><li><a href=\"/holidays/cyprus/\">Cyprus</a></li><li><a href=\"/holidays/czech/\">Czechia</a></li></ul>, <ul class=\"category-list__list\"><li><a href=\"/holidays/denmark/\">Denmark</a></li><li><a href=\"/holidays/djibouti/\">Djibouti</a></li><li><a href=\"/holidays/dominica/\">Dominica</a></li><li><a href=\"/holidays/dominican-republic/\">Dominican Republic</a></li></ul>, <ul class=\"category-list__list\"><li><a href=\"/holidays/timor-leste/\">East Timor</a></li><li><a href=\"/holidays/ecuador/\">Ecuador</a></li><li><a href=\"/holidays/egypt/\">Egypt</a></li><li><a href=\"/holidays/el-salvador/\">El Salvador</a></li><li><a href=\"/holidays/guineaecuatorial/\">Equatorial Guinea</a></li><li><a href=\"/holidays/eritrea/\">Eritrea</a></li><li><a href=\"/holidays/estonia/\">Estonia</a></li><li><a href=\"/holidays/swaziland/\">Eswatini</a></li><li><a href=\"/holidays/ethiopia/\">Ethiopia</a></li></ul>, <ul class=\"category-list__list\"><li><a href=\"/holidays/falkland-islands/\">Falkland Islands</a></li><li><a href=\"/holidays/faroe-islands/\">Faroe Islands</a></li><li><a href=\"/holidays/fiji/\">Fiji</a></li><li><a href=\"/holidays/finland/\">Finland</a></li><li><a href=\"/holidays/france/\">France</a></li><li><a href=\"/holidays/french-guiana/\">French Guiana</a></li><li><a href=\"/holidays/french-polynesia/\">French Polynesia</a></li></ul>, <ul class=\"category-list__list\"><li><a href=\"/holidays/gabon/\">Gabon</a></li><li><a href=\"/holidays/gambia/\">Gambia</a></li><li><a href=\"/holidays/georgia/\">Georgia</a></li><li><a href=\"/holidays/germany/\">Germany</a></li><li><a href=\"/holidays/ghana/\">Ghana</a></li><li><a href=\"/holidays/gibraltar/\">Gibraltar</a></li><li><a href=\"/holidays/greece/\">Greece</a></li><li><a href=\"/holidays/greenland/\">Greenland</a></li><li><a href=\"/holidays/grenada/\">Grenada</a></li><li><a href=\"/holidays/guadeloupe/\">Guadeloupe</a></li><li><a href=\"/holidays/guam/\">Guam</a></li><li><a href=\"/holidays/guatemala/\">Guatemala</a></li><li><a href=\"/holidays/guernsey/\">Guernsey</a></li><li><a href=\"/holidays/guinea/\">Guinea</a></li><li><a href=\"/holidays/guinea-bissau/\">Guinea-Bissau</a></li><li><a href=\"/holidays/guyana/\">Guyana</a></li></ul>, <ul class=\"category-list__list\"><li><a href=\"/holidays/haiti/\">Haiti</a></li><li><a href=\"/holidays/honduras/\">Honduras</a></li><li><a href=\"/holidays/hong-kong/\">Hong Kong</a></li><li><a href=\"/holidays/hungary/\">Hungary</a></li></ul>, <ul class=\"category-list__list\"><li><a href=\"/holidays/iceland/\">Iceland</a></li><li><a href=\"/holidays/india/\">India</a></li><li><a href=\"/holidays/indonesia/\">Indonesia</a></li><li><a href=\"/holidays/iran/\">Iran</a></li><li><a href=\"/holidays/iraq/\">Iraq</a></li><li><a href=\"/holidays/ireland/\">Ireland</a></li><li><a href=\"/holidays/isle-of-man/\">Isle of Man</a></li><li><a href=\"/holidays/israel/\">Israel</a></li><li><a href=\"/holidays/italy/\">Italy</a></li></ul>, <ul class=\"category-list__list\"><li><a href=\"/holidays/jamaica/\">Jamaica</a></li><li><a href=\"/holidays/japan/\">Japan</a></li><li><a href=\"/holidays/jersey/\">Jersey</a></li><li><a href=\"/holidays/jordan/\">Jordan</a></li></ul>, <ul class=\"category-list__list\"><li><a href=\"/holidays/kazakhstan/\">Kazakhstan</a></li><li><a href=\"/holidays/kenya/\">Kenya</a></li><li><a href=\"/holidays/kiribati/\">Kiribati</a></li><li><a href=\"/holidays/kosovo/\">Kosovo</a></li><li><a href=\"/holidays/kuwait/\">Kuwait</a></li><li><a href=\"/holidays/kyrgyzstan/\">Kyrgyzstan</a></li></ul>, <ul class=\"category-list__list\"><li><a href=\"/holidays/laos/\">Laos</a></li><li><a href=\"/holidays/latvia/\">Latvia</a></li><li><a href=\"/holidays/lebanon/\">Lebanon</a></li><li><a href=\"/holidays/lesotho/\">Lesotho</a></li><li><a href=\"/holidays/liberia/\">Liberia</a></li><li><a href=\"/holidays/libya/\">Libya</a></li><li><a href=\"/holidays/liechtenstein/\">Liechtenstein</a></li><li><a href=\"/holidays/lithuania/\">Lithuania</a></li><li><a href=\"/holidays/luxembourg/\">Luxembourg</a></li></ul>, <ul class=\"category-list__list\"><li><a href=\"/holidays/macau/\">Macau</a></li><li><a href=\"/holidays/madagascar/\">Madagascar</a></li><li><a href=\"/holidays/malawi/\">Malawi</a></li><li><a href=\"/holidays/malaysia/\">Malaysia</a></li><li><a href=\"/holidays/maldives/\">Maldives</a></li><li><a href=\"/holidays/mali/\">Mali</a></li><li><a href=\"/holidays/malta/\">Malta</a></li><li><a href=\"/holidays/marshall-islands/\">Marshall Islands</a></li><li><a href=\"/holidays/martinique/\">Martinique</a></li><li><a href=\"/holidays/mauritania/\">Mauritania</a></li><li><a href=\"/holidays/mauritius/\">Mauritius</a></li><li><a href=\"/holidays/mayotte/\">Mayotte</a></li><li><a href=\"/holidays/mexico/\">Mexico</a></li><li><a href=\"/holidays/micronesia/\">Micronesia</a></li><li><a href=\"/holidays/moldova/\">Moldova</a></li><li><a href=\"/holidays/monaco/\">Monaco</a></li><li><a href=\"/holidays/mongolia/\">Mongolia</a></li><li><a href=\"/holidays/montenegro/\">Montenegro</a></li><li><a href=\"/holidays/montserrat/\">Montserrat</a></li><li><a href=\"/holidays/morocco/\">Morocco</a></li><li><a href=\"/holidays/mozambique/\">Mozambique</a></li><li><a href=\"/holidays/myanmar/\">Myanmar</a></li></ul>, <ul class=\"category-list__list\"><li><a href=\"/holidays/namibia/\">Namibia</a></li><li><a href=\"/holidays/nauru/\">Nauru</a></li><li><a href=\"/holidays/nepal/\">Nepal</a></li><li><a href=\"/holidays/netherlands/\">Netherlands</a></li><li><a href=\"/holidays/new-caledonia/\">New Caledonia</a></li><li><a href=\"/holidays/new-zealand/\">New Zealand</a></li><li><a href=\"/holidays/nicaragua/\">Nicaragua</a></li><li><a href=\"/holidays/niger/\">Niger</a></li><li><a href=\"/holidays/nigeria/\">Nigeria</a></li><li><a href=\"/holidays/north-korea/\">North Korea</a></li><li><a href=\"/holidays/macedonia/\">North Macedonia</a></li><li><a href=\"/holidays/northern-mariana-islands/\">Northern Mariana Islands</a></li><li><a href=\"/holidays/norway/\">Norway</a></li></ul>, <ul class=\"category-list__list\"><li><a href=\"/holidays/oman/\">Oman</a></li></ul>, <ul class=\"category-list__list\"><li><a href=\"/holidays/pakistan/\">Pakistan</a></li><li><a href=\"/holidays/palau/\">Palau</a></li><li><a href=\"/holidays/panama/\">Panama</a></li><li><a href=\"/holidays/papua-new-guinea/\">Papua New Guinea</a></li><li><a href=\"/holidays/paraguay/\">Paraguay</a></li><li><a href=\"/holidays/peru/\">Peru</a></li><li><a href=\"/holidays/philippines/\">Philippines</a></li><li><a href=\"/holidays/poland/\">Poland</a></li><li><a href=\"/holidays/portugal/\">Portugal</a></li><li><a href=\"/holidays/puerto-rico/\">Puerto Rico</a></li></ul>, <ul class=\"category-list__list\"><li><a href=\"/holidays/qatar/\">Qatar</a></li></ul>, <ul class=\"category-list__list\"><li><a href=\"/holidays/reunion/\">Reunion</a></li><li><a href=\"/holidays/romania/\">Romania</a></li><li><a href=\"/holidays/russia/\">Russia</a></li><li><a href=\"/holidays/rwanda/\">Rwanda</a></li></ul>, <ul class=\"category-list__list\"><li><a href=\"/holidays/saint-helena/\">Saint Helena</a></li><li><a href=\"/holidays/saint-kitts-and-nevis/\">Saint Kitts and Nevis</a></li><li><a href=\"/holidays/saint-lucia/\">Saint Lucia</a></li><li><a href=\"/holidays/saint-martin/\">Saint Martin</a></li><li><a href=\"/holidays/saint-pierre-and-miquelon/\">Saint Pierre and Miquelon</a></li><li><a href=\"/holidays/saint-vincent-and-the-grenadines/\">Saint Vincent and the Grenadines</a></li><li><a href=\"/holidays/samoa/\">Samoa</a></li><li><a href=\"/holidays/san-marino/\">San Marino</a></li><li><a href=\"/holidays/sao-tome-and-principe/\">Sao Tome and Principe</a></li><li><a href=\"/holidays/saudi-arabia/\">Saudi Arabia</a></li><li><a href=\"/holidays/senegal/\">Senegal</a></li><li><a href=\"/holidays/serbia/\">Serbia</a></li><li><a href=\"/holidays/seychelles/\">Seychelles</a></li><li><a href=\"/holidays/sierra-leone/\">Sierra Leone</a></li><li><a href=\"/holidays/singapore/\">Singapore</a></li><li><a href=\"/holidays/sint-maarten/\">Sint Maarten</a></li><li><a href=\"/holidays/slovakia/\">Slovakia</a></li><li><a href=\"/holidays/slovenia/\">Slovenia</a></li><li><a href=\"/holidays/solomon-islands/\">Solomon Islands</a></li><li><a href=\"/holidays/somalia/\">Somalia</a></li><li><a href=\"/holidays/south-africa/\">South Africa</a></li><li><a href=\"/holidays/south-korea/\">South Korea</a></li><li><a href=\"/holidays/south-sudan/\">South Sudan</a></li><li><a href=\"/holidays/spain/\">Spain</a></li><li><a href=\"/holidays/sri-lanka/\">Sri Lanka</a></li><li><a href=\"/holidays/saint-barthelemy/\">St. Barts</a></li><li><a href=\"/holidays/sudan/\">Sudan</a></li><li><a href=\"/holidays/suriname/\">Suriname</a></li><li><a href=\"/holidays/sweden/\">Sweden</a></li><li><a href=\"/holidays/switzerland/\">Switzerland</a></li><li><a href=\"/holidays/syria/\">Syria</a></li></ul>, <ul class=\"category-list__list\"><li><a href=\"/holidays/taiwan/\">Taiwan</a></li><li><a href=\"/holidays/tajikistan/\">Tajikistan</a></li><li><a href=\"/holidays/tanzania/\">Tanzania</a></li><li><a href=\"/holidays/thailand/\">Thailand</a></li><li><a href=\"/holidays/bahamas/\">The Bahamas</a></li><li><a href=\"/holidays/togo/\">Togo</a></li><li><a href=\"/holidays/tonga/\">Tonga</a></li><li><a href=\"/holidays/trinidad/\">Trinidad and Tobago</a></li><li><a href=\"/holidays/tunisia/\">Tunisia</a></li><li><a href=\"/holidays/turkey/\">Turkey</a></li><li><a href=\"/holidays/turkmenistan/\">Turkmenistan</a></li><li><a href=\"/holidays/turks-and-caicos-islands/\">Turks and Caicos Islands</a></li><li><a href=\"/holidays/tuvalu/\">Tuvalu</a></li></ul>, <ul class=\"category-list__list\"><li><a href=\"/holidays/uganda/\">Uganda</a></li><li><a href=\"/holidays/ukraine/\">Ukraine</a></li><li><a href=\"/holidays/united-arab-emirates/\">United Arab Emirates</a></li><li><a href=\"/holidays/uk/\">United Kingdom</a></li><li><a href=\"/holidays/us/\">United States</a></li><li><a href=\"/holidays/uruguay/\">Uruguay</a></li><li><a href=\"/holidays/united-states-virgin-islands/\">US Virgin Islands</a></li><li><a href=\"/holidays/uzbekistan/\">Uzbekistan</a></li></ul>, <ul class=\"category-list__list\"><li><a href=\"/holidays/vanuatu/\">Vanuatu</a></li><li><a href=\"/holidays/vatican-city-state/\">Vatican City (Holy See)</a></li><li><a href=\"/holidays/venezuela/\">Venezuela</a></li><li><a href=\"/holidays/vietnam/\">Vietnam</a></li></ul>, <ul class=\"category-list__list\"><li><a href=\"/holidays/wallis-and-futuna/\">Wallis and Futuna</a></li></ul>, <ul class=\"category-list__list\"><li><a href=\"/holidays/yemen/\">Yemen</a></li></ul>, <ul class=\"category-list__list\"><li><a href=\"/holidays/zambia/\">Zambia</a></li><li><a href=\"/holidays/zimbabwe/\">Zimbabwe</a></li></ul>, <ul class=\"category-list__list\"><li><a href=\"/holidays/un/\">UN Days</a></li><li><a href=\"/holidays/world/\">World Days</a></li><li><a href=\"/year/\">UN International Years</a></li></ul>]\n"
          ],
          "name": "stdout"
        }
      ]
    },
    {
      "cell_type": "code",
      "metadata": {
        "id": "YqTjjUBgmvBy"
      },
      "source": [
        "#As we went from a soup object to a list, we need to transform it into text and parse it again\r\n",
        "ul=BeautifulSoup(str(soup.find_all(\"ul\", class_='category-list__list')))"
      ],
      "execution_count": 10,
      "outputs": []
    },
    {
      "cell_type": "code",
      "metadata": {
        "id": "fTd_1QlNmvN3"
      },
      "source": [
        "# we can display them with a loop\r\n",
        "for i in ul.find_all(\"li\"):\r\n",
        "    print(i.find(\"a\").get_text())"
      ],
      "execution_count": null,
      "outputs": []
    },
    {
      "cell_type": "code",
      "metadata": {
        "id": "qD-JOTmQmvX6"
      },
      "source": [
        "# we can store them in a loop\r\n",
        "COUNTRIES=[]\r\n",
        "for i in ul.find_all(\"li\"):\r\n",
        "    print(i.find(\"a\").get_text())\r\n",
        "    COUNTRIES.append(i.find(\"a\").get_text())\r\n",
        "print(COUNTRIES)"
      ],
      "execution_count": null,
      "outputs": []
    },
    {
      "cell_type": "code",
      "metadata": {
        "id": "dwZaq1u2mvgj"
      },
      "source": [
        "# generating the list of urls to scrape information\r\n",
        "URLS=[]\r\n",
        "for i in ul.find_all(\"li\"):\r\n",
        "    for year in range(2000, 2019):\r\n",
        "        print(i.find(\"a\").get_text())\r\n",
        "        URLS.append(i.find(\"a\").get(\"href\")+ str(year) + '?hol=1')\r\n",
        "print(URLS)\r\n"
      ],
      "execution_count": null,
      "outputs": []
    },
    {
      "cell_type": "code",
      "metadata": {
        "colab": {
          "base_uri": "https://localhost:8080/"
        },
        "id": "MOimyTismviD",
        "outputId": "aed344d6-fddd-42d3-cbcd-acb5a73d0dfc"
      },
      "source": [
        "print(URLS[0])"
      ],
      "execution_count": 14,
      "outputs": [
        {
          "output_type": "stream",
          "text": [
            "/holidays/afghanistan/2000?hol=1\n"
          ],
          "name": "stdout"
        }
      ]
    },
    {
      "cell_type": "code",
      "metadata": {
        "id": "StoSfLC7nyls"
      },
      "source": [
        "def recoverinfo(url):\r\n",
        "    dict={} #empty dict\r\n",
        "    url2=\"https://www.timeanddate.com%s\"%url # complete the webpage url\r\n",
        "    page= requests.get(url2) #download\r\n",
        "    soup=BeautifulSoup(page.text) #parse\r\n",
        "    table=soup.find(\"table\", class_=\"table table--left table--inner-borders-rows table--full-width table--sticky table--holidaycountry\")\r\n",
        "    classToIgnore = \"hiderow\"\r\n",
        "    try:\r\n",
        "        for i in table.find_all(\"tr\", class_=lambda x: x not in classToIgnore):\r\n",
        "            try:\r\n",
        "                # date \r\n",
        "                dict['date'] = i.find(\"th\", class_ = \"nw\").get_text()\r\n",
        "                #aux_date = i.find(\"th\", class_ = \"nw\").get_text()  \r\n",
        "                all_td = i.find_all(\"td\").get_text()\r\n",
        "                dict['Day'] = all_td[1].text\r\n",
        "                dict['Name'] = all_td[2].text\r\n",
        "                dict['Type'] = all_td[3].text\r\n",
        "            except:\r\n",
        "                print(url)\r\n",
        "    except:\r\n",
        "        print(\"No info box\")\r\n",
        "    dict[\"first-paragraph\"]=soup.find(\"p\").get_text()\r\n",
        "    dict[\"url\"]=url2\r\n",
        "    return dict\r\n",
        "  "
      ],
      "execution_count": 16,
      "outputs": []
    },
    {
      "cell_type": "code",
      "metadata": {
        "id": "4XUMccRgmvlE"
      },
      "source": [
        "HOLIDAYS_DATA=[]\r\n",
        "for e in URLS:\r\n",
        "    try:\r\n",
        "        print(e)\r\n",
        "        holidays=recoverinfo(e)\r\n",
        "        HOLIDAYS_DATA.append(holidays)\r\n",
        "    except KeyboardInterrupt:\r\n",
        "        break\r\n",
        "        print(\"STOP\")\r\n",
        "    except:\r\n",
        "        print(e)\r\n",
        "        print(\"failed\")"
      ],
      "execution_count": null,
      "outputs": []
    },
    {
      "cell_type": "code",
      "metadata": {
        "id": "gwc_pbLWmvo0"
      },
      "source": [
        "print(HOLIDAYS_DATA[0])"
      ],
      "execution_count": null,
      "outputs": []
    },
    {
      "cell_type": "code",
      "metadata": {
        "id": "ZtkZXkU7mvql"
      },
      "source": [
        ""
      ],
      "execution_count": null,
      "outputs": []
    },
    {
      "cell_type": "code",
      "metadata": {
        "id": "zK25Jzm6mvxu"
      },
      "source": [
        ""
      ],
      "execution_count": null,
      "outputs": []
    },
    {
      "cell_type": "code",
      "metadata": {
        "id": "SYut3D3BmvzQ"
      },
      "source": [
        ""
      ],
      "execution_count": null,
      "outputs": []
    }
  ]
}